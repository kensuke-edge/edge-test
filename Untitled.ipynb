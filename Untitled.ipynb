{
 "cells": [
  {
   "cell_type": "code",
   "execution_count": null,
   "id": "5afc559b-fe87-45a1-a94d-0ac3bb53c88d",
   "metadata": {},
   "outputs": [],
   "source": [
    "import pandas as pd\n",
    "import numpy as np\n",
    "from fbprophet import Prophet\n",
    "from fbprophet import plot\n",
    "from fbprophet.diagnostics import cross_validation, performance_metrics\n",
    "from matplotlib import pyplot as plt"
   ]
  },
  {
   "cell_type": "code",
   "execution_count": null,
   "id": "6d963843-002a-4485-8bc6-daa9ebcbbdd0",
   "metadata": {},
   "outputs": [],
   "source": []
  }
 ],
 "metadata": {
  "kernelspec": {
   "display_name": "Custom [gcr_test] (Local)",
   "language": "python",
   "name": "local-gcr.io_task-force-g00gle_gcr_test_sha256_5e6df14ec45dd24a6e82a63b215e0fe26bccb2bada3d3a48ea080fd48d8ca201__python3"
  },
  "language_info": {
   "name": ""
  }
 },
 "nbformat": 4,
 "nbformat_minor": 5
}
